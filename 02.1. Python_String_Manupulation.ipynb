{
 "cells": [
  {
   "cell_type": "markdown",
   "metadata": {
    "colab_type": "text",
    "id": "E4zJqoHMMIJ6"
   },
   "source": [
    "# Python : String Manupulation "
   ]
  },
  {
   "cell_type": "code",
   "execution_count": 2,
   "metadata": {
    "colab": {
     "base_uri": "https://localhost:8080/",
     "height": 34
    },
    "colab_type": "code",
    "id": "XRDSYylIMIJ-",
    "outputId": "103ded88-5b75-4aae-f781-6ccb87457f35"
   },
   "outputs": [
    {
     "name": "stdout",
     "output_type": "stream",
     "text": [
      "Hello all!\n"
     ]
    }
   ],
   "source": [
    "msg = \"Hello all!\"\n",
    "\n",
    "print(msg)"
   ]
  },
  {
   "cell_type": "code",
   "execution_count": 3,
   "metadata": {
    "colab": {
     "base_uri": "https://localhost:8080/",
     "height": 34
    },
    "colab_type": "code",
    "id": "Ns16t9n2MIKH",
    "outputId": "1cb8a6df-e29e-4ca1-beb5-522a58e7fada"
   },
   "outputs": [
    {
     "name": "stdout",
     "output_type": "stream",
     "text": [
      "lol\n"
     ]
    }
   ],
   "source": [
    "name = 'lol'\n",
    "#name = \"lol\"\n",
    "print(name)"
   ]
  },
  {
   "cell_type": "markdown",
   "metadata": {
    "colab_type": "text",
    "id": "9CCBsrllMIKS"
   },
   "source": []
  },
  {
   "cell_type": "markdown",
   "metadata": {
    "colab_type": "text",
    "id": "3_IVi0-7MIKT"
   },
   "source": [
    "### 1. Single Quotes inside Double Quotes"
   ]
  },
  {
   "cell_type": "code",
   "execution_count": 3,
   "metadata": {
    "colab": {},
    "colab_type": "code",
    "id": "hOkMuvKgMIKU"
   },
   "outputs": [],
   "source": []
  },
  {
   "cell_type": "code",
   "execution_count": 4,
   "metadata": {
    "colab": {
     "base_uri": "https://localhost:8080/",
     "height": 34
    },
    "colab_type": "code",
    "id": "DIRoi9KMMIKb",
    "outputId": "55fd13a0-c178-447f-8a45-a7767845aad1",
    "scrolled": true
   },
   "outputs": [
    {
     "name": "stdout",
     "output_type": "stream",
     "text": [
      "It's my notebook\n"
     ]
    }
   ],
   "source": [
    "msg = 'It\\'s my notebook'\n",
    "\n",
    "print(msg)"
   ]
  },
  {
   "cell_type": "code",
   "execution_count": null,
   "metadata": {
    "colab": {},
    "colab_type": "code",
    "id": "uMEbm3B2MIKh"
   },
   "outputs": [],
   "source": [
    "msg = 'Its\\nmy\\\\nnotebook'\n",
    "print(msg)"
   ]
  },
  {
   "cell_type": "markdown",
   "metadata": {
    "colab_type": "text",
    "id": "fjNoZJpQMIKl"
   },
   "source": [
    "### 2. Escape Characters\n",
    "\n",
    "#### Escape character   \n",
    "``\\'``                 Single quote \n",
    "\n",
    "``\\\"``                 Double quote \n",
    "\n",
    "``\\t``                 Tab \n",
    "\n",
    "``\\n``                 Newline (line break) \n",
    "\n",
    "``\\\\``                 Backslash\n"
   ]
  },
  {
   "cell_type": "code",
   "execution_count": null,
   "metadata": {
    "colab": {},
    "colab_type": "code",
    "id": "sXSa22VwMIKm"
   },
   "outputs": [],
   "source": [
    "msg = 'It\\'s my notebook'\n",
    "\n",
    "print(msg)"
   ]
  },
  {
   "cell_type": "code",
   "execution_count": null,
   "metadata": {
    "colab": {},
    "colab_type": "code",
    "id": "1L1wZ0KxMIKq"
   },
   "outputs": [],
   "source": [
    "msg = 'It\\'s my notebook\\nPlease dont touch it'\n",
    "\n",
    "print(msg)"
   ]
  },
  {
   "cell_type": "code",
   "execution_count": null,
   "metadata": {
    "colab": {},
    "colab_type": "code",
    "id": "gbrVFDTaMIKw"
   },
   "outputs": [],
   "source": [
    "msg = \"My name is \"         # Contatenation\n",
    "name = \"shreyas \\t\"\n",
    "\n",
    "print((msg + name)*2)"
   ]
  },
  {
   "cell_type": "code",
   "execution_count": null,
   "metadata": {
    "colab": {},
    "colab_type": "code",
    "id": "aibzp6GnMIK1"
   },
   "outputs": [],
   "source": [
    "msg=\"my name is sahana\\t\"\n",
    "print(msg*2)"
   ]
  },
  {
   "cell_type": "markdown",
   "metadata": {
    "colab_type": "text",
    "id": "MlmdaqUfMIK6"
   },
   "source": [
    "### 3.Indexing and Slicing Strings"
   ]
  },
  {
   "cell_type": "code",
   "execution_count": null,
   "metadata": {
    "colab": {},
    "colab_type": "code",
    "id": "m5xdAQR-MIK7"
   },
   "outputs": [],
   "source": [
    "msg = \"Hello All, Good morning!\"\n",
    "\n",
    "letter = msg[7]\n",
    "\n",
    "print(letter)"
   ]
  },
  {
   "cell_type": "code",
   "execution_count": null,
   "metadata": {
    "colab": {},
    "colab_type": "code",
    "id": "_eOEENuOMILB"
   },
   "outputs": [],
   "source": [
    "msg[:7]"
   ]
  },
  {
   "cell_type": "code",
   "execution_count": null,
   "metadata": {
    "colab": {},
    "colab_type": "code",
    "id": "-Af5GJAwMILH",
    "scrolled": true
   },
   "outputs": [],
   "source": [
    "msg[6:9]"
   ]
  },
  {
   "cell_type": "code",
   "execution_count": null,
   "metadata": {
    "colab": {},
    "colab_type": "code",
    "id": "1PVoX7-7MILM"
   },
   "outputs": [],
   "source": [
    "msg[11:]\n"
   ]
  },
  {
   "cell_type": "code",
   "execution_count": null,
   "metadata": {
    "colab": {},
    "colab_type": "code",
    "id": "hKqu3lLEMILQ",
    "scrolled": true
   },
   "outputs": [],
   "source": [
    "msg[-3]"
   ]
  },
  {
   "cell_type": "code",
   "execution_count": null,
   "metadata": {
    "colab": {},
    "colab_type": "code",
    "id": "lNeDSBCeMILU"
   },
   "outputs": [],
   "source": [
    "msg[-8:-2]"
   ]
  },
  {
   "cell_type": "code",
   "execution_count": null,
   "metadata": {
    "colab": {},
    "colab_type": "code",
    "id": "89YO3NUcMILX"
   },
   "outputs": [],
   "source": [
    "msg[:-2]"
   ]
  },
  {
   "cell_type": "code",
   "execution_count": null,
   "metadata": {
    "colab": {},
    "colab_type": "code",
    "id": "DiKZNTrsMILa"
   },
   "outputs": [],
   "source": [
    "topic =\"Machine Learning\""
   ]
  },
  {
   "cell_type": "code",
   "execution_count": null,
   "metadata": {
    "colab": {},
    "colab_type": "code",
    "id": "CytZchN8MILd"
   },
   "outputs": [],
   "source": [
    "topic[8:16]"
   ]
  },
  {
   "cell_type": "markdown",
   "metadata": {
    "colab_type": "text",
    "id": "VSuMRn5BMILi"
   },
   "source": [
    "### 4. String Addition or Concatenation"
   ]
  },
  {
   "cell_type": "code",
   "execution_count": null,
   "metadata": {
    "colab": {},
    "colab_type": "code",
    "id": "sigPLeKoMILj",
    "scrolled": true
   },
   "outputs": [],
   "source": [
    "first = 'rove'\n",
    "last = 'LaBs'\n",
    "\n",
    "full_name = first.title() + ' ' + last.title()\n",
    "\n",
    "print(first + ' ' + last)\n",
    "print(full_name)"
   ]
  },
  {
   "cell_type": "markdown",
   "metadata": {
    "colab_type": "text",
    "id": "oir6ezBxMILn"
   },
   "source": [
    "### 5. String Formatting"
   ]
  },
  {
   "cell_type": "code",
   "execution_count": null,
   "metadata": {
    "colab": {},
    "colab_type": "code",
    "id": "9-MCXc93MILn",
    "scrolled": true
   },
   "outputs": [],
   "source": [
    "my_name = 'Jhon Snow'     \n",
    "my_age = 35      \n",
    "my_height = 74 # inches     \n",
    "my_weight = 180.6 # lbs     \n",
    "my_eyes = 'Blue'     \n",
    "my_teeth = 'White'     \n",
    "my_hair = 'Brown'     \n",
    "\n",
    "print(\"Let's talk about %s.\" % my_name)    \n",
    "print(\"He's %d inches tall.\" % my_height)    \n",
    "print(\"He's %f pounds heavy.\" % my_weight)\n",
    "print(\"He's %.2f pounds heavy.\" % my_weight)    \n",
    "print(\"Actually that's not too heavy.\")    \n",
    "print(\"He's got %s eyes and %s hair.\" % (my_eyes, my_hair))    \n",
    "print(\"His teeth are usually %s depending on the coffee.\" % my_teeth)    \n",
    "\n",
    " \n",
    "print(\"If I add %d, %d, and %d I get %d.\" % (my_age, my_height, my_weight, my_age + my_height + my_weight))"
   ]
  },
  {
   "cell_type": "code",
   "execution_count": null,
   "metadata": {
    "colab": {},
    "colab_type": "code",
    "id": "JM6H-tg_MILr"
   },
   "outputs": [],
   "source": [
    "print(\"He's pounds heavy and {1:d} inches{0:.2f}  tall.\".format(my_weight, my_height))"
   ]
  },
  {
   "cell_type": "code",
   "execution_count": null,
   "metadata": {
    "colab": {},
    "colab_type": "code",
    "id": "EfGL7ikNMILx"
   },
   "outputs": [],
   "source": [
    "my_name = 'Jhon Snow'     \n",
    "my_age = 35      \n",
    "my_height = 74 # inches     \n",
    "my_weight = 180.6 # lbs     \n",
    "my_eyes = 'Blue'     \n",
    "my_teeth = 'White'     \n",
    "my_hair = 'Brown'    "
   ]
  },
  {
   "cell_type": "code",
   "execution_count": null,
   "metadata": {
    "colab": {},
    "colab_type": "code",
    "id": "LpR17f7sMIL1",
    "outputId": "7b825c54-090a-4917-ab70-a965ae103aa5",
    "scrolled": true
   },
   "outputs": [
    {
     "name": "stdout",
     "output_type": "stream",
     "text": [
      "Let's 180.6 talk about. \n"
     ]
    }
   ],
   "source": [
    "print(\"Let's %s talk about. \" % my_weight)  "
   ]
  },
  {
   "cell_type": "code",
   "execution_count": null,
   "metadata": {
    "colab": {},
    "colab_type": "code",
    "id": "hZ61LqLXMIL7",
    "outputId": "ddbc77e9-e320-40d6-cbca-e58eb194c5bd",
    "scrolled": true
   },
   "outputs": [
    {
     "name": "stdout",
     "output_type": "stream",
     "text": [
      "He's got Brown eyes and Blue hair.\n"
     ]
    }
   ],
   "source": [
    "print(\"He's got %s eyes and %s hair.\" % (my_hair,my_eyes)  )"
   ]
  },
  {
   "cell_type": "code",
   "execution_count": null,
   "metadata": {
    "colab": {},
    "colab_type": "code",
    "id": "fvgOPcWyMIL_",
    "outputId": "3333dfd8-2923-45c1-a215-955a95acd926"
   },
   "outputs": [
    {
     "data": {
      "text/plain": [
       "'defegu sdf gjk'"
      ]
     },
     "execution_count": 54,
     "metadata": {
      "tags": []
     },
     "output_type": "execute_result"
    }
   ],
   "source": [
    "msg = \"abc sdf gjk\"\n",
    "\n",
    "msg.replace(\"abc\" , \"defegu\")"
   ]
  },
  {
   "cell_type": "code",
   "execution_count": null,
   "metadata": {
    "colab": {},
    "colab_type": "code",
    "id": "T2jDzIxkMIME"
   },
   "outputs": [],
   "source": []
  }
 ],
 "metadata": {
  "colab": {
   "name": "Python -  String Manupulation.ipynb",
   "provenance": []
  },
  "kernelspec": {
   "display_name": "Python 3",
   "language": "python",
   "name": "python3"
  },
  "language_info": {
   "codemirror_mode": {
    "name": "ipython",
    "version": 3
   },
   "file_extension": ".py",
   "mimetype": "text/x-python",
   "name": "python",
   "nbconvert_exporter": "python",
   "pygments_lexer": "ipython3",
   "version": "3.8.2"
  }
 },
 "nbformat": 4,
 "nbformat_minor": 1
}
