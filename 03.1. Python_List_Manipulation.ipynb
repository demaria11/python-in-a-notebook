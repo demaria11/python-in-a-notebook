{
 "cells": [
  {
   "cell_type": "markdown",
   "metadata": {
    "colab_type": "text",
    "id": "2ru1IHjyO9yP"
   },
   "source": [
    "# Python : List Manupulation "
   ]
  },
  {
   "cell_type": "markdown",
   "metadata": {
    "colab_type": "text",
    "id": "DDqIQzbVO9yS"
   },
   "source": [
    "### 1. List Indexing and Slicing"
   ]
  },
  {
   "cell_type": "code",
   "execution_count": null,
   "metadata": {
    "colab": {},
    "colab_type": "code",
    "id": "0CWLDp2iO9yU",
    "outputId": "68462578-eb1e-4448-d46e-3efc2c21a9bc"
   },
   "outputs": [
    {
     "name": "stdout",
     "output_type": "stream",
     "text": [
      "['Janauary', 'February', 'March', 'April', 'May', 'June', 'July', 'August', 'September', 'October', 'November', 'December']\n"
     ]
    }
   ],
   "source": [
    "months = ['Janauary', 'February', 'March', 'April', 'May', 'June', 'July',\n",
    "          'August', 'September', 'October', 'November', 'December']\n",
    "\n",
    "print(months)"
   ]
  },
  {
   "cell_type": "code",
   "execution_count": null,
   "metadata": {
    "colab": {},
    "colab_type": "code",
    "id": "srQcFAOEO9yg",
    "outputId": "e2b2f132-854e-48b5-b731-ded8e48ec4be"
   },
   "outputs": [
    {
     "name": "stdout",
     "output_type": "stream",
     "text": [
      "12\n"
     ]
    }
   ],
   "source": [
    "print(len(months))"
   ]
  },
  {
   "cell_type": "code",
   "execution_count": null,
   "metadata": {
    "colab": {},
    "colab_type": "code",
    "id": "uRUDkcORO9ym",
    "outputId": "d6489d82-f97e-4bbd-9d75-70299db79e6b",
    "scrolled": true
   },
   "outputs": [
    {
     "name": "stdout",
     "output_type": "stream",
     "text": [
      "May\n"
     ]
    }
   ],
   "source": [
    "print(months[4])"
   ]
  },
  {
   "cell_type": "code",
   "execution_count": null,
   "metadata": {
    "colab": {},
    "colab_type": "code",
    "id": "jIkh6TuqO9ys",
    "outputId": "2dbec810-88ec-465f-fb50-0a5f7b05db74",
    "scrolled": true
   },
   "outputs": [
    {
     "name": "stdout",
     "output_type": "stream",
     "text": [
      "['February', 'March', 'April', 'May']\n"
     ]
    }
   ],
   "source": [
    "print(months[1:5])"
   ]
  },
  {
   "cell_type": "code",
   "execution_count": null,
   "metadata": {
    "colab": {},
    "colab_type": "code",
    "id": "xtrym4RnO9yy",
    "outputId": "e0361597-66a3-416b-db19-7ff4fa0651c9"
   },
   "outputs": [
    {
     "name": "stdout",
     "output_type": "stream",
     "text": [
      "['Janauary', 'February', 'March', 'April']\n"
     ]
    }
   ],
   "source": [
    "print(months[:4])"
   ]
  },
  {
   "cell_type": "code",
   "execution_count": null,
   "metadata": {
    "colab": {},
    "colab_type": "code",
    "id": "44WXg0zKO9y4",
    "outputId": "4acb6167-193b-4f9d-a8e8-cda454762810"
   },
   "outputs": [
    {
     "name": "stdout",
     "output_type": "stream",
     "text": [
      "['May', 'June', 'July', 'August', 'September', 'October', 'November', 'December']\n"
     ]
    }
   ],
   "source": [
    "print(months[4:])"
   ]
  },
  {
   "cell_type": "code",
   "execution_count": null,
   "metadata": {
    "colab": {},
    "colab_type": "code",
    "id": "PU2X_qAEO9y9",
    "outputId": "7649be4e-70f9-460d-f9de-9699a06c0600"
   },
   "outputs": [
    {
     "name": "stdout",
     "output_type": "stream",
     "text": [
      "December\n"
     ]
    }
   ],
   "source": [
    "print(months[-1])"
   ]
  },
  {
   "cell_type": "code",
   "execution_count": null,
   "metadata": {
    "colab": {},
    "colab_type": "code",
    "id": "19m5k_LRO9zF",
    "outputId": "7d5a3e29-f825-407d-9fd3-bad9246d9cc8"
   },
   "outputs": [
    {
     "name": "stdout",
     "output_type": "stream",
     "text": [
      "['June', 'July', 'August', 'September', 'October', 'November']\n"
     ]
    }
   ],
   "source": [
    "print(months[5:-1])"
   ]
  },
  {
   "cell_type": "code",
   "execution_count": null,
   "metadata": {
    "colab": {},
    "colab_type": "code",
    "id": "7wFaEGqgO9zJ",
    "outputId": "0a749c19-a467-482e-999d-a8a2e02efa52",
    "scrolled": true
   },
   "outputs": [
    {
     "name": "stdout",
     "output_type": "stream",
     "text": [
      " I am a march born\n"
     ]
    }
   ],
   "source": [
    "print(\" I am a \" + months[2].lower() + \" born\")"
   ]
  },
  {
   "cell_type": "markdown",
   "metadata": {
    "colab_type": "text",
    "id": "hfPngMhbO9zO"
   },
   "source": [
    "#### a. Changing Values in a List with Indexes"
   ]
  },
  {
   "cell_type": "code",
   "execution_count": null,
   "metadata": {
    "colab": {},
    "colab_type": "code",
    "id": "B5tKfb8dO9zQ",
    "outputId": "4ef59584-c9bf-4872-bfcf-686c6bf212c4",
    "scrolled": true
   },
   "outputs": [
    {
     "name": "stdout",
     "output_type": "stream",
     "text": [
      "['cat', 'dog', 'rat', 'elephant']\n"
     ]
    }
   ],
   "source": [
    "anim = ['cat', 'bat', 'rat', 'elephant']\n",
    "\n",
    "anim[1] = 'dog'\n",
    "\n",
    "print(anim)"
   ]
  },
  {
   "cell_type": "code",
   "execution_count": null,
   "metadata": {
    "colab": {},
    "colab_type": "code",
    "id": "Yybu7ZI2O9zU",
    "outputId": "7ce56517-8aa7-4fa9-bb71-46d2a91dd826"
   },
   "outputs": [
    {
     "name": "stdout",
     "output_type": "stream",
     "text": [
      "['cat', 'dog', 'rat', 'dog']\n"
     ]
    }
   ],
   "source": [
    "anim[3] = anim[1]\n",
    "\n",
    "print(anim)"
   ]
  },
  {
   "cell_type": "markdown",
   "metadata": {
    "colab_type": "text",
    "id": "hcZO9VaEO9za"
   },
   "source": [
    "#### b. List containing other lists"
   ]
  },
  {
   "cell_type": "code",
   "execution_count": null,
   "metadata": {
    "colab": {},
    "colab_type": "code",
    "id": "J137gOthO9zb"
   },
   "outputs": [],
   "source": [
    "spam = [['cat', 'bat'], [10, 20, 30, 40, 50]]"
   ]
  },
  {
   "cell_type": "code",
   "execution_count": null,
   "metadata": {
    "colab": {},
    "colab_type": "code",
    "id": "BroVMGtuO9ze",
    "outputId": "2f662052-6e93-436d-f576-5e6a5791c606"
   },
   "outputs": [
    {
     "name": "stdout",
     "output_type": "stream",
     "text": [
      "['cat', 'bat']\n"
     ]
    }
   ],
   "source": [
    "print(spam[0])"
   ]
  },
  {
   "cell_type": "code",
   "execution_count": null,
   "metadata": {
    "colab": {},
    "colab_type": "code",
    "id": "JG8ev9O_O9zk",
    "outputId": "7050aeb3-6a1f-4fba-d495-c3fb632c4b7a"
   },
   "outputs": [
    {
     "name": "stdout",
     "output_type": "stream",
     "text": [
      "bat\n"
     ]
    }
   ],
   "source": [
    "print(spam[0][1])"
   ]
  },
  {
   "cell_type": "code",
   "execution_count": null,
   "metadata": {
    "colab": {},
    "colab_type": "code",
    "id": "bkMW_rr8O9zo",
    "outputId": "2a79bffd-1e35-4896-ff38-ea7ee237b2df",
    "scrolled": true
   },
   "outputs": [
    {
     "name": "stdout",
     "output_type": "stream",
     "text": [
      "50\n"
     ]
    }
   ],
   "source": [
    "print(spam[1][4])"
   ]
  },
  {
   "cell_type": "code",
   "execution_count": null,
   "metadata": {
    "colab": {},
    "colab_type": "code",
    "id": "AvjUi82oO9zr",
    "outputId": "1f43468d-79fb-4922-cc67-9aa345b72ba8"
   },
   "outputs": [
    {
     "name": "stdout",
     "output_type": "stream",
     "text": [
      "[10, 20]\n"
     ]
    }
   ],
   "source": [
    "print(spam[1][:2])"
   ]
  },
  {
   "cell_type": "markdown",
   "metadata": {
    "colab_type": "text",
    "id": "g7R6OCmoO9zv"
   },
   "source": [
    "### 2. List Sorting"
   ]
  },
  {
   "cell_type": "code",
   "execution_count": null,
   "metadata": {
    "colab": {},
    "colab_type": "code",
    "id": "RtO6AflbO9zw"
   },
   "outputs": [],
   "source": [
    "colours = ['red', 'green', 'yellow', 'orange', 'voilet', 'black', 'white', 'blue', 'indigo', 'brown', 'purple']\n",
    "\n",
    "temperature = [34, 26.8, 39, 48, 44, 18, 23, 36.8, 47]\n",
    "\n",
    "months = ['Janauary', 'February', 'March', 'April', 'May', 'June', 'July', \n",
    "          'August', 'September', 'October', 'November', 'December']"
   ]
  },
  {
   "cell_type": "markdown",
   "metadata": {
    "colab_type": "text",
    "id": "_GuMRLcEO9z2"
   },
   "source": [
    "### ``sort()``"
   ]
  },
  {
   "cell_type": "code",
   "execution_count": null,
   "metadata": {
    "colab": {},
    "colab_type": "code",
    "id": "UQITbyHaO9z3",
    "outputId": "a398758e-e2b3-42fd-9eac-02fe59c81e1e",
    "scrolled": true
   },
   "outputs": [
    {
     "name": "stdout",
     "output_type": "stream",
     "text": [
      "['black', 'blue', 'brown', 'green', 'indigo', 'orange', 'purple', 'red', 'voilet', 'white', 'yellow']\n"
     ]
    }
   ],
   "source": [
    "# Sorting list permanently using sort()\n",
    "\n",
    "colours.sort()\n",
    "print(colours)"
   ]
  },
  {
   "cell_type": "code",
   "execution_count": null,
   "metadata": {
    "colab": {},
    "colab_type": "code",
    "id": "gF8cV18jO9z8",
    "outputId": "9393fc80-1392-42b4-bea7-7aafef2267ad"
   },
   "outputs": [
    {
     "name": "stdout",
     "output_type": "stream",
     "text": [
      "[18, 23, 26.8, 34, 36.8, 39, 44, 47, 48]\n"
     ]
    }
   ],
   "source": [
    "temperature.sort()\n",
    "print(temperature)"
   ]
  },
  {
   "cell_type": "code",
   "execution_count": null,
   "metadata": {
    "colab": {},
    "colab_type": "code",
    "id": "ntfm31UGO90C",
    "outputId": "4b6f4cb7-3cc8-42cc-d2a5-5523e42a13a6",
    "scrolled": true
   },
   "outputs": [
    {
     "name": "stdout",
     "output_type": "stream",
     "text": [
      "['yellow', 'white', 'voilet', 'red', 'purple', 'orange', 'indigo', 'green', 'brown', 'blue', 'black']\n"
     ]
    }
   ],
   "source": [
    "# Sort list in reverse\n",
    "\n",
    "colours.sort(reverse=True)\n",
    "print(colours)"
   ]
  },
  {
   "cell_type": "markdown",
   "metadata": {
    "colab_type": "text",
    "id": "IYUgIK-QO90F"
   },
   "source": [
    "### ``reverse()``"
   ]
  },
  {
   "cell_type": "code",
   "execution_count": null,
   "metadata": {
    "colab": {},
    "colab_type": "code",
    "id": "KE9u8P0BO90G",
    "outputId": "771e6b94-e6bf-4850-89b4-ef871218bc13"
   },
   "outputs": [
    {
     "name": "stdout",
     "output_type": "stream",
     "text": [
      "['December', 'November', 'October', 'September', 'August', 'July', 'June', 'May', 'April', 'March', 'February', 'Janauary']\n"
     ]
    }
   ],
   "source": [
    "# Reverse order of data in list\n",
    "\n",
    "months.reverse()\n",
    "print(months)"
   ]
  },
  {
   "cell_type": "markdown",
   "metadata": {
    "colab_type": "text",
    "id": "DXdXwwp_O90J"
   },
   "source": [
    "### 3. Working with the elements to the list"
   ]
  },
  {
   "cell_type": "markdown",
   "metadata": {
    "colab_type": "text",
    "id": "Ah-p9p45O90K"
   },
   "source": [
    "#### a. Adding the elements at the end of the list"
   ]
  },
  {
   "cell_type": "code",
   "execution_count": null,
   "metadata": {
    "colab": {},
    "colab_type": "code",
    "id": "rjnnyGo8O90L",
    "outputId": "5d45e150-0782-4c76-f01e-0ef33d0f9774"
   },
   "outputs": [
    {
     "name": "stdout",
     "output_type": "stream",
     "text": [
      "['Honda', 'Maruthi', 'Volvo', 'benz']\n"
     ]
    }
   ],
   "source": [
    "cars = [\"Honda\", \"Maruthi\", \"Volvo\"]\n",
    "\n",
    "cars.append(\"benz\")\n",
    "\n",
    "print(cars)"
   ]
  },
  {
   "cell_type": "code",
   "execution_count": null,
   "metadata": {
    "colab": {},
    "colab_type": "code",
    "id": "VpXtVeerO90P",
    "outputId": "45c438f7-aa48-4571-aae8-95f2199d7c28"
   },
   "outputs": [
    {
     "name": "stdout",
     "output_type": "stream",
     "text": [
      "[1, 8, 27, 64, 125, 216, 343, 512, 729, 1000]\n"
     ]
    }
   ],
   "source": [
    "# Creating a list of square no of 1 to 10\n",
    "squr = []\n",
    "for value in range(1,11): \n",
    "    squr.append(value**3)\n",
    "print(squr)"
   ]
  },
  {
   "cell_type": "markdown",
   "metadata": {
    "colab_type": "text",
    "id": "8AZp-fW-O90T"
   },
   "source": [
    "#### b. Inserting the elements to the list"
   ]
  },
  {
   "cell_type": "code",
   "execution_count": null,
   "metadata": {
    "colab": {},
    "colab_type": "code",
    "id": "xlI_A4uWO90U",
    "outputId": "419cbf23-0f33-4726-ca0e-78c87de36598",
    "scrolled": true
   },
   "outputs": [
    {
     "name": "stdout",
     "output_type": "stream",
     "text": [
      "['Honda', 'Maruthi', 'Mahindra', 'Volvo']\n"
     ]
    }
   ],
   "source": [
    "cars = [\"Honda\", \"Maruthi\", \"Volvo\"]\n",
    "\n",
    "cars.insert(2, \"Mahindra\")\n",
    "\n",
    "print(cars)"
   ]
  },
  {
   "cell_type": "markdown",
   "metadata": {
    "colab_type": "text",
    "id": "m_NZOUECO90b"
   },
   "source": [
    "#### c. Removing the elements from the list  ``del()``"
   ]
  },
  {
   "cell_type": "code",
   "execution_count": null,
   "metadata": {
    "colab": {},
    "colab_type": "code",
    "id": "xzsbAeu8O90c",
    "outputId": "b357d53c-f46d-4c92-e591-138050065f00",
    "scrolled": true
   },
   "outputs": [
    {
     "name": "stdout",
     "output_type": "stream",
     "text": [
      "['Volvo', 'pagani', 'Tata']\n"
     ]
    }
   ],
   "source": [
    "cars = [\"Honda\", \"Maruthi\", \"Volvo\", \"pagani\", \"Tata\"]\n",
    "\n",
    "del cars[:2]\n",
    "\n",
    "print(cars)"
   ]
  },
  {
   "cell_type": "markdown",
   "metadata": {
    "colab_type": "text",
    "id": "-G5AHtwVO90g"
   },
   "source": [
    "#### d. Removing the elements from the list  ``pop()``"
   ]
  },
  {
   "cell_type": "code",
   "execution_count": null,
   "metadata": {
    "colab": {},
    "colab_type": "code",
    "id": "9nFb7iRWO90h",
    "outputId": "7509a89c-ef11-45ed-c889-2df66eb6703c"
   },
   "outputs": [
    {
     "name": "stdout",
     "output_type": "stream",
     "text": [
      "['Honda', 'Maruthi', 'Volvo', 'Tata']\n",
      "pagani\n"
     ]
    }
   ],
   "source": [
    "cars = [\"Honda\", \"Maruthi\", \"Volvo\", \"pagani\", \"Tata\"]\n",
    "\n",
    "luxury_car = cars.pop(3)\n",
    "\n",
    "print(cars)\n",
    "\n",
    "print(luxury_car)"
   ]
  },
  {
   "cell_type": "markdown",
   "metadata": {
    "colab_type": "text",
    "id": "Pj6RKAw2O90m"
   },
   "source": [
    "#### e. Removing an Item by Value ``remove()``"
   ]
  },
  {
   "cell_type": "code",
   "execution_count": null,
   "metadata": {
    "colab": {},
    "colab_type": "code",
    "id": "gHxDc1OzO90m",
    "outputId": "e2a0e56f-c486-4b32-fb4f-1306fd3a2b65"
   },
   "outputs": [
    {
     "name": "stdout",
     "output_type": "stream",
     "text": [
      "['Honda', 'Maruthi', 'Volvo', 'Tata']\n"
     ]
    }
   ],
   "source": [
    "cars = [\"Honda\", \"Maruthi\", \"Volvo\", \"pagani\", \"Tata\"]\n",
    "\n",
    "cars.remove(\"pagani\")\n",
    "\n",
    "print(cars)"
   ]
  },
  {
   "cell_type": "markdown",
   "metadata": {
    "colab_type": "text",
    "id": "gDxTydjRO90p"
   },
   "source": [
    "\n",
    "#### f. Using ``range()``  function to create array"
   ]
  },
  {
   "cell_type": "code",
   "execution_count": null,
   "metadata": {
    "colab": {},
    "colab_type": "code",
    "id": "C70w3gB7O90q",
    "outputId": "c3f79704-59fd-4d92-c9a3-2d53276066c8"
   },
   "outputs": [
    {
     "name": "stdout",
     "output_type": "stream",
     "text": [
      "[0, 1, 2, 3, 4, 5, 6, 7, 8, 9, 10, 11, 12, 13, 14, 15, 16, 17, 18, 19, 20]\n",
      "[2, 5, 8, 11, 14, 17, 20]\n"
     ]
    }
   ],
   "source": [
    "# Using range() to creat list\n",
    "numbers = (list(range(0,21)))\n",
    "print(numbers)\n",
    "\n",
    "even_numbers = (list(range(2,21,3)))\n",
    "print(even_numbers)"
   ]
  },
  {
   "cell_type": "markdown",
   "metadata": {
    "colab_type": "text",
    "id": "jcMvh7PVO90w"
   },
   "source": [
    "### 4. Simple statistics with list"
   ]
  },
  {
   "cell_type": "code",
   "execution_count": null,
   "metadata": {
    "colab": {},
    "colab_type": "code",
    "id": "-Xxo-OrOO90w",
    "outputId": "fdded7d6-63fc-4d7d-a275-784aac1e2fca",
    "scrolled": true
   },
   "outputs": [
    {
     "name": "stdout",
     "output_type": "stream",
     "text": [
      "12\n",
      "48\n",
      "342.6\n"
     ]
    }
   ],
   "source": [
    "temperature = [34, 26.8, 39, 48, 44, 18, 23, 36.8, 28, 16, 12, 17]\n",
    "\n",
    "print(min(temperature))\n",
    "print(max(temperature))\n",
    "print(sum(temperature))"
   ]
  },
  {
   "cell_type": "code",
   "execution_count": null,
   "metadata": {
    "colab": {},
    "colab_type": "code",
    "id": "HHhuSoxbO900"
   },
   "outputs": [],
   "source": []
  }
 ],
 "metadata": {
  "colab": {
   "name": "Python - List Manipulation.ipynb",
   "provenance": []
  },
  "kernelspec": {
   "display_name": "Python 3",
   "language": "python",
   "name": "python3"
  },
  "language_info": {
   "codemirror_mode": {
    "name": "ipython",
    "version": 3
   },
   "file_extension": ".py",
   "mimetype": "text/x-python",
   "name": "python",
   "nbconvert_exporter": "python",
   "pygments_lexer": "ipython3",
   "version": "3.8.2"
  }
 },
 "nbformat": 4,
 "nbformat_minor": 1
}
